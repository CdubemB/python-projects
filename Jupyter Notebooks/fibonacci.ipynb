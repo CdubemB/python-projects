{
 "cells": [
  {
   "cell_type": "markdown",
   "id": "726ea08b",
   "metadata": {},
   "source": [
    "# Working with simple Fibonacci"
   ]
  },
  {
   "cell_type": "markdown",
   "id": "37e59912",
   "metadata": {},
   "source": [
    "## task\n",
    "we are tasked with creating a program that takes N, a variable number, which will have positive inputs, and recursively calculate and output the first N numbers of a fibonacci sequence (starting from 0)"
   ]
  },
  {
   "cell_type": "code",
   "execution_count": null,
   "id": "7d530a8f",
   "metadata": {},
   "outputs": [],
   "source": [
    "num = int(input(\"enter a positive number\"))"
   ]
  },
  {
   "cell_type": "markdown",
   "id": "9656dc28",
   "metadata": {},
   "source": [
    "The above will be used to ask and receive an input from the user to be worked with"
   ]
  },
  {
   "cell_type": "code",
   "execution_count": null,
   "id": "beb20edd",
   "metadata": {},
   "outputs": [],
   "source": [
    "def fibonacci(n):\n",
    "    if n<= 1:\n",
    "        return n\n",
    "    else: \n",
    "        return fibonacci(n-1) + fibonacci(n-2)\n"
   ]
  },
  {
   "cell_type": "markdown",
   "id": "3e2ffb82",
   "metadata": {},
   "source": [
    "this function is used to generate the fibonacci sequence"
   ]
  },
  {
   "cell_type": "code",
   "execution_count": null,
   "id": "7b4efd18",
   "metadata": {},
   "outputs": [],
   "source": [
    "for i in range(num):\n",
    "    print(fibonacci(i))"
   ]
  },
  {
   "cell_type": "markdown",
   "id": "6a889ab3",
   "metadata": {},
   "source": [
    "The input received at the start of the code decides how many values in this fibonacci are outputed"
   ]
  }
 ],
 "metadata": {
  "kernelspec": {
   "display_name": ".venv",
   "language": "python",
   "name": "python3"
  },
  "language_info": {
   "codemirror_mode": {
    "name": "ipython",
    "version": 3
   },
   "file_extension": ".py",
   "mimetype": "text/x-python",
   "name": "python",
   "nbconvert_exporter": "python",
   "pygments_lexer": "ipython3",
   "version": "3.10.1"
  }
 },
 "nbformat": 4,
 "nbformat_minor": 5
}
