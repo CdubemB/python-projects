{
 "cells": [
  {
   "cell_type": "markdown",
   "id": "7ae61c53",
   "metadata": {},
   "source": [
    "# Creating a simple game"
   ]
  },
  {
   "cell_type": "markdown",
   "id": "98983d47",
   "metadata": {},
   "source": [
    "Within this document a simple text based game will be created primarily through object orientated programming. (Inspired by simple game lesson sololearn-python)"
   ]
  },
  {
   "cell_type": "code",
   "execution_count": 211,
   "id": "9684fdd7",
   "metadata": {},
   "outputs": [],
   "source": [
    "running = True"
   ]
  },
  {
   "cell_type": "markdown",
   "id": "7db9b091",
   "metadata": {},
   "source": [
    "this will be used to exit the game when needed"
   ]
  },
  {
   "cell_type": "code",
   "execution_count": 212,
   "id": "b0e723d3",
   "metadata": {},
   "outputs": [],
   "source": [
    "def get_input():\n",
    "    command = input(\": \").split()\n",
    "    \n",
    "    if len(command) == 0:\n",
    "        return True #continue\n",
    "    verb_word = command[0]\n",
    "    if verb_word == \"quit\":\n",
    "        global running\n",
    "        running = False\n",
    "        print(\"Game over!\")\n",
    "        return\n",
    "    if verb_word in verb_dict:\n",
    "        verb = verb_dict[verb_word]\n",
    "    else:\n",
    "        print(\"Unknown verb {}\".format(verb_word))\n",
    "        return\n",
    "    if len(command) >= 2:\n",
    "        noun_word = command[1]\n",
    "        print (verb(noun_word))\n",
    "    else:\n",
    "        print(verb(\"nothing\"))\n",
    "    \n",
    "def say(noun):\n",
    "    return \"you said {}\".format(noun)"
   ]
  },
  {
   "cell_type": "markdown",
   "id": "ea806745",
   "metadata": {},
   "source": [
    "the function above asks the user for an input and splits each word in the input into a list. with this input the function will check whether a word in the dictoinary created above is used and if so assign the new variable verb to the corresponding value in the dictoinary, a future function. this function will then be run on noun_word if the word count of the input exceeds 1."
   ]
  },
  {
   "cell_type": "code",
   "execution_count": 213,
   "id": "e34efa8e",
   "metadata": {},
   "outputs": [],
   "source": [
    "verb_dict = {\n",
    "    \"say\": say,\n",
    "}\n"
   ]
  },
  {
   "cell_type": "markdown",
   "id": "e380e836",
   "metadata": {},
   "source": [
    "This dictionary will be referred to multiple times when making actions in this game"
   ]
  },
  {
   "cell_type": "code",
   "execution_count": 214,
   "id": "272622b4",
   "metadata": {},
   "outputs": [],
   "source": [
    "class GameObject:\n",
    "    class_name = \"\"\n",
    "    desc = \"\"\n",
    "    objects = {}\n",
    "\n",
    "    def __init__(self, name):\n",
    "        self.name = name\n",
    "        GameObject.objects[self.class_name] = self\n",
    "    def get_desc(self):\n",
    "        return self.class_name + \"\\n\" + self.desc\n",
    "\n",
    "    "
   ]
  },
  {
   "cell_type": "markdown",
   "id": "86b26ff0",
   "metadata": {},
   "source": [
    "this is the main object of the game - the blueprint persay. this includes a class_name and desc attribute which hold the name of the class, such as goblin, and their description respectively."
   ]
  },
  {
   "cell_type": "code",
   "execution_count": 215,
   "id": "77d1f4e4",
   "metadata": {},
   "outputs": [],
   "source": [
    "class Goblin(GameObject):\n",
    "    def __init__(self, name):\n",
    "        self.class_name = \"goblin\"\n",
    "        self.health = 3\n",
    "        self._desc = \"A greedy foul creature\"\n",
    "        super().__init__(name)\n",
    "    @property\n",
    "    def desc(self):\n",
    "        if self.health >= 3:\n",
    "            return self._desc + \", healthy and conniving\"\n",
    "        elif self.health == 2:\n",
    "            return self._desc + \", angry and wounded\"\n",
    "        elif self.health == 1:\n",
    "            return self._desc + \", armless and rabid looking\"\n",
    "        elif self.health <= 0:\n",
    "            return self._desc + \", perished\"\n",
    "    @desc.setter\n",
    "    def desc(self, value):\n",
    "        self._desc = value\n",
    "goblin = Goblin(\"spear\")"
   ]
  },
  {
   "cell_type": "markdown",
   "id": "1f7cc4b6",
   "metadata": {},
   "source": [
    "the Goblin class is used to create an instnace of the goblin object whilst inheriting from the main GameObject class. the property/getter is used to show how much health the goblin has and the setter will allow for easier access."
   ]
  },
  {
   "cell_type": "code",
   "execution_count": 216,
   "id": "dd0d8985",
   "metadata": {},
   "outputs": [],
   "source": [
    "def examine(noun):\n",
    "    if noun in GameObject.objects:\n",
    "        return \"the {}\".format(GameObject.objects[noun].class_name) + \" named {}\".format(GameObject.objects[noun].name) + \" has {} health,\".format(GameObject.objects[noun].health) +\"\\n {}\".format(GameObject.objects[noun].desc) \n",
    "        \n",
    "    else:\n",
    "        return \"There is no {} here.\".format(noun)"
   ]
  },
  {
   "cell_type": "markdown",
   "id": "99945f49",
   "metadata": {},
   "source": [
    "this following function is used to examine objects in the game and will now be added to the verb dictionary"
   ]
  },
  {
   "cell_type": "code",
   "execution_count": 217,
   "id": "218f09a2",
   "metadata": {},
   "outputs": [],
   "source": [
    "verb_dict[\"examine\"] = examine"
   ]
  },
  {
   "cell_type": "code",
   "execution_count": 218,
   "id": "7c70be1b",
   "metadata": {},
   "outputs": [],
   "source": [
    "def hit(noun):\n",
    "    if noun in GameObject.objects:\n",
    "        thing = GameObject.objects[noun]\n",
    "        if type(thing) is Goblin:\n",
    "            thing.health -= 1\n",
    "            if thing.health <= 0:\n",
    "                msg = \"the goblin has perished\"\n",
    "                global running\n",
    "                running = False\n",
    "            else:\n",
    "                msg = \"you hit the {}\".format(noun) + \". it now has {} health\".format(thing.health)\n",
    "    else:\n",
    "        msg = \"there is no {} here\".format(noun)\n",
    "    return msg"
   ]
  },
  {
   "cell_type": "markdown",
   "id": "a2dd7b00",
   "metadata": {},
   "source": [
    "the block of code above is used to simulate hitting the object, the goblin in this case. repeatedly inputting \"hit goblin\" will reduce the health of the goblin until it reaches zero in which the program will stop running. the hit function will be added to the dictionary."
   ]
  },
  {
   "cell_type": "code",
   "execution_count": 219,
   "id": "94fd6fa7",
   "metadata": {},
   "outputs": [],
   "source": [
    "verb_dict[\"hit\"] = hit"
   ]
  },
  {
   "cell_type": "code",
   "execution_count": 220,
   "id": "53e7c4d9",
   "metadata": {},
   "outputs": [
    {
     "name": "stdout",
     "output_type": "stream",
     "text": [
      "you said hello\n",
      "the goblin named spear has 3 health,\n",
      " A greedy foul creature, healthy and conniving\n",
      "you hit the goblin. it now has 2 health\n",
      "the goblin named spear has 2 health,\n",
      " A greedy foul creature, angry and wounded\n",
      "you hit the goblin. it now has 1 health\n",
      "the goblin named spear has 1 health,\n",
      " A greedy foul creature, armless and rabid looking\n",
      "the goblin has perished\n"
     ]
    }
   ],
   "source": [
    "while running:\n",
    "    get_input()"
   ]
  },
  {
   "cell_type": "markdown",
   "id": "023a9564",
   "metadata": {},
   "source": [
    "the block of code above runs the program as long as the health of the object is not zero or lower"
   ]
  }
 ],
 "metadata": {
  "kernelspec": {
   "display_name": ".venv",
   "language": "python",
   "name": "python3"
  },
  "language_info": {
   "codemirror_mode": {
    "name": "ipython",
    "version": 3
   },
   "file_extension": ".py",
   "mimetype": "text/x-python",
   "name": "python",
   "nbconvert_exporter": "python",
   "pygments_lexer": "ipython3",
   "version": "3.14.0"
  }
 },
 "nbformat": 4,
 "nbformat_minor": 5
}
